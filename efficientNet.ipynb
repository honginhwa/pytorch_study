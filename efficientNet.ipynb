{
  "nbformat": 4,
  "nbformat_minor": 0,
  "metadata": {
    "colab": {
      "name": "efficientNet.ipynb",
      "provenance": [],
      "collapsed_sections": [],
      "mount_file_id": "1aUoGsgTaSQUbBNPmCfN75vEdM17cPCWm",
      "authorship_tag": "ABX9TyOkkA31jrMB68zVVBUAH6PP",
      "include_colab_link": true
    },
    "kernelspec": {
      "name": "python3",
      "display_name": "Python 3"
    },
    "accelerator": "GPU"
  },
  "cells": [
    {
      "cell_type": "markdown",
      "metadata": {
        "id": "view-in-github",
        "colab_type": "text"
      },
      "source": [
        "<a href=\"https://colab.research.google.com/github/honginhwa/pytorch_study/blob/master/efficientNet.ipynb\" target=\"_parent\"><img src=\"https://colab.research.google.com/assets/colab-badge.svg\" alt=\"Open In Colab\"/></a>"
      ]
    },
    {
      "cell_type": "markdown",
      "metadata": {
        "id": "nGapWzbURio8",
        "colab_type": "text"
      },
      "source": [
        ""
      ]
    },
    {
      "cell_type": "code",
      "metadata": {
        "id": "rOq_50l1p_LS",
        "colab_type": "code",
        "colab": {
          "base_uri": "https://localhost:8080/",
          "height": 109
        },
        "outputId": "15101203-ee54-4333-cac6-f1dfc7ea030c"
      },
      "source": [
        "!pip install efficientnet_pytorch\n",
        "from efficientnet_pytorch import EfficientNet\n",
        "#model = EfficientNet.from_name('efficientnet-b0')\n"
      ],
      "execution_count": 24,
      "outputs": [
        {
          "output_type": "stream",
          "text": [
            "Requirement already satisfied: efficientnet_pytorch in /usr/local/lib/python3.6/dist-packages (0.7.0)\n",
            "Requirement already satisfied: torch in /usr/local/lib/python3.6/dist-packages (from efficientnet_pytorch) (1.6.0+cu101)\n",
            "Requirement already satisfied: future in /usr/local/lib/python3.6/dist-packages (from torch->efficientnet_pytorch) (0.16.0)\n",
            "Requirement already satisfied: numpy in /usr/local/lib/python3.6/dist-packages (from torch->efficientnet_pytorch) (1.18.5)\n"
          ],
          "name": "stdout"
        }
      ]
    },
    {
      "cell_type": "code",
      "metadata": {
        "id": "bmrLHvVatG2J",
        "colab_type": "code",
        "colab": {
          "base_uri": "https://localhost:8080/",
          "height": 35
        },
        "outputId": "06d50b90-8470-4d37-8ea4-8dc49eed8569"
      },
      "source": [
        "import numpy as np\n",
        "import pandas as pd\n",
        "import matplotlib.pyplot as plt\n",
        "import warnings\n",
        "warnings.filterwarnings(\"ignore\")\n",
        "import json\n",
        "from PIL import Image\n",
        "\n",
        "\n",
        "import torch\n",
        "import torch.nn as nn\n",
        "import torch.nn.init as init\n",
        "import torch.optim as optim\n",
        "import torch.nn.functional as F\n",
        "from torch.autograd import Variable\n",
        "from torch.utils.data import Dataset, DataLoader, RandomSampler\n",
        "from torch.optim import lr_scheduler\n",
        "\n",
        "\n",
        "import torchvision\n",
        "import torchvision.models as models\n",
        "import torchvision.datasets as dset\n",
        "import torchvision.transforms as transforms\n",
        "#from torchvision import transforms\n",
        "\n",
        "import cv2\n",
        "import time\n",
        "import os\n",
        "import copy\n",
        "import random as rand\n",
        "from random import *\n",
        "from efficientnet_pytorch import EfficientNet\n",
        "from torchvision import transforms, datasets\n",
        "\n",
        "model_name = 'efficientnet-b0'  # b5\n",
        "\n",
        "image_size = EfficientNet.get_image_size(model_name)\n",
        "print(image_size)\n",
        "model = EfficientNet.from_name(model_name, num_classes=7)"
      ],
      "execution_count": 25,
      "outputs": [
        {
          "output_type": "stream",
          "text": [
            "224\n"
          ],
          "name": "stdout"
        }
      ]
    },
    {
      "cell_type": "code",
      "metadata": {
        "id": "wRjS53sLuEoy",
        "colab_type": "code",
        "colab": {}
      },
      "source": [
        "train_transforms = {\n",
        "    'train': transforms.Compose([\n",
        "        transforms.Resize((224, 224)),\n",
        "        transforms.ToTensor(),\n",
        "        transforms.Normalize(mean=[0.485, 0.456, 0.406], std=[0.229, 0.224, 0.225]),\n",
        "\n",
        "    ]),\n",
        "    'val': transforms.Compose([\n",
        "        transforms.Resize((224, 224)),\n",
        "        transforms.ToTensor(),\n",
        "        transforms.Normalize(mean=[0.485, 0.456, 0.406], std=[0.229, 0.224, 0.225]),\n",
        "    ])\n",
        "}\n",
        "\n",
        "test_transforms = transforms.Compose([\n",
        "    transforms.Resize((224, 224)),\n",
        "    transforms.ToTensor(),\n",
        "    transforms.Normalize(mean=[0.485, 0.456, 0.406], std=[0.229, 0.224, 0.225]),\n",
        "    \n",
        "])"
      ],
      "execution_count": 26,
      "outputs": []
    },
    {
      "cell_type": "code",
      "metadata": {
        "id": "pPh50YRQF3PZ",
        "colab_type": "code",
        "colab": {}
      },
      "source": [
        "data_dir = \"/content/drive/My Drive/Colab Notebooks/Labeld_Crop_Data\"\n",
        "trDsets = {x: dset.ImageFolder(os.path.join(data_dir, x), train_transforms[x]) for x in ['train', 'val']}\n",
        "trLoaders = {x: torch.utils.data.DataLoader(trDsets[x], batch_size=5, shuffle=True, num_workers=4) for x in ['train', 'val']}  \n",
        "\n",
        "teDsets = dset.ImageFolder(os.path.join(data_dir,'test'), transform=test_transforms)\n",
        "teLoaders = torch.utils.data.DataLoader(teDsets, batch_size=5, shuffle=False, num_workers=4)"
      ],
      "execution_count": 27,
      "outputs": []
    },
    {
      "cell_type": "code",
      "metadata": {
        "id": "i4w1nKYfGkEB",
        "colab_type": "code",
        "colab": {
          "base_uri": "https://localhost:8080/",
          "height": 73
        },
        "outputId": "08a04c00-dbca-445d-a1a3-f83333037522"
      },
      "source": [
        "print(trDsets['train'].classes)\n",
        "print(teDsets.classes)"
      ],
      "execution_count": 28,
      "outputs": [
        {
          "output_type": "stream",
          "text": [
            "['0', '1', '10', '11', '12', '13', '14', '15', '16', '17', '18', '19', '2', '20', '21', '3', '4', '5', '6', '7', '8', '9']\n",
            "['0', '1', '10', '11', '12', '13', '14', '15', '16', '17', '18', '19', '2', '20', '21', '3', '4', '5', '6', '7', '8', '9']\n"
          ],
          "name": "stdout"
        }
      ]
    },
    {
      "cell_type": "markdown",
      "metadata": {
        "id": "O9eCcrRnuYq8",
        "colab_type": "text"
      },
      "source": [
        "## data split"
      ]
    },
    {
      "cell_type": "code",
      "metadata": {
        "id": "FZGQCWW9uIhJ",
        "colab_type": "code",
        "colab": {
          "base_uri": "https://localhost:8080/",
          "height": 73
        },
        "outputId": "d23b3b96-45f3-424f-b779-611ae43449f3"
      },
      "source": [
        "trDsets_sizes = {x: len(trDsets[x]) for x in ['train', 'val']}\n",
        "print(trDsets_sizes)\n",
        "class_names = trDsets['train'].classes\n",
        "print(class_names)"
      ],
      "execution_count": 29,
      "outputs": [
        {
          "output_type": "stream",
          "text": [
            "{'train': 9936, 'val': 2503}\n",
            "['0', '1', '10', '11', '12', '13', '14', '15', '16', '17', '18', '19', '2', '20', '21', '3', '4', '5', '6', '7', '8', '9']\n"
          ],
          "name": "stdout"
        }
      ]
    },
    {
      "cell_type": "markdown",
      "metadata": {
        "id": "1KaMfZ3gvwMd",
        "colab_type": "text"
      },
      "source": [
        "## data loader 선언"
      ]
    },
    {
      "cell_type": "code",
      "metadata": {
        "id": "7MojpnUIufdq",
        "colab_type": "code",
        "colab": {
          "base_uri": "https://localhost:8080/",
          "height": 107
        },
        "outputId": "55a8e757-0ff1-4295-c1f5-cb9017c18129"
      },
      "source": [
        "print(torch.cuda.is_available())     # GPU 사용 가능 여부\n",
        "print(torch.cuda.current_device())   # GPU 디바이스의 위치\n",
        "print(torch.cuda.device_count())     # 사용가능한 GPU 개수\n",
        "print(torch.cuda.get_device_name(0)) # GPU의 이름\n",
        "print(torch.cuda.device(0))"
      ],
      "execution_count": 30,
      "outputs": [
        {
          "output_type": "stream",
          "text": [
            "True\n",
            "0\n",
            "1\n",
            "Tesla T4\n",
            "<torch.cuda.device object at 0x7f593e207f60>\n"
          ],
          "name": "stdout"
        }
      ]
    },
    {
      "cell_type": "code",
      "metadata": {
        "id": "tV_byAE8Gy-u",
        "colab_type": "code",
        "colab": {}
      },
      "source": [
        "device = torch.device(\"cuda:0\" if torch.cuda.is_available() else 'cpu')"
      ],
      "execution_count": 31,
      "outputs": []
    },
    {
      "cell_type": "code",
      "metadata": {
        "id": "C0X-J5iiHrGP",
        "colab_type": "code",
        "colab": {
          "base_uri": "https://localhost:8080/",
          "height": 1000
        },
        "outputId": "16adbdae-3716-4d59-b4c3-ffe057978795"
      },
      "source": [
        "model = EfficientNet.from_name('efficientnet-b0')\n",
        "num_ftrs = model._fc.in_features\n",
        "print(num_ftrs)\n",
        "model.fc = nn.Linear(num_ftrs, len(class_names))\n",
        "\n",
        "model = model.to(device)\n",
        "print(model)"
      ],
      "execution_count": 32,
      "outputs": [
        {
          "output_type": "stream",
          "text": [
            "1280\n",
            "EfficientNet(\n",
            "  (_conv_stem): Conv2dStaticSamePadding(\n",
            "    3, 32, kernel_size=(3, 3), stride=(2, 2), bias=False\n",
            "    (static_padding): ZeroPad2d(padding=(1, 1, 1, 1), value=0.0)\n",
            "  )\n",
            "  (_bn0): BatchNorm2d(32, eps=0.001, momentum=0.010000000000000009, affine=True, track_running_stats=True)\n",
            "  (_blocks): ModuleList(\n",
            "    (0): MBConvBlock(\n",
            "      (_depthwise_conv): Conv2dStaticSamePadding(\n",
            "        32, 32, kernel_size=(3, 3), stride=[1, 1], groups=32, bias=False\n",
            "        (static_padding): ZeroPad2d(padding=(1, 1, 1, 1), value=0.0)\n",
            "      )\n",
            "      (_bn1): BatchNorm2d(32, eps=0.001, momentum=0.010000000000000009, affine=True, track_running_stats=True)\n",
            "      (_se_reduce): Conv2dStaticSamePadding(\n",
            "        32, 8, kernel_size=(1, 1), stride=(1, 1)\n",
            "        (static_padding): Identity()\n",
            "      )\n",
            "      (_se_expand): Conv2dStaticSamePadding(\n",
            "        8, 32, kernel_size=(1, 1), stride=(1, 1)\n",
            "        (static_padding): Identity()\n",
            "      )\n",
            "      (_project_conv): Conv2dStaticSamePadding(\n",
            "        32, 16, kernel_size=(1, 1), stride=(1, 1), bias=False\n",
            "        (static_padding): Identity()\n",
            "      )\n",
            "      (_bn2): BatchNorm2d(16, eps=0.001, momentum=0.010000000000000009, affine=True, track_running_stats=True)\n",
            "      (_swish): MemoryEfficientSwish()\n",
            "    )\n",
            "    (1): MBConvBlock(\n",
            "      (_expand_conv): Conv2dStaticSamePadding(\n",
            "        16, 96, kernel_size=(1, 1), stride=(1, 1), bias=False\n",
            "        (static_padding): Identity()\n",
            "      )\n",
            "      (_bn0): BatchNorm2d(96, eps=0.001, momentum=0.010000000000000009, affine=True, track_running_stats=True)\n",
            "      (_depthwise_conv): Conv2dStaticSamePadding(\n",
            "        96, 96, kernel_size=(3, 3), stride=[2, 2], groups=96, bias=False\n",
            "        (static_padding): ZeroPad2d(padding=(1, 1, 1, 1), value=0.0)\n",
            "      )\n",
            "      (_bn1): BatchNorm2d(96, eps=0.001, momentum=0.010000000000000009, affine=True, track_running_stats=True)\n",
            "      (_se_reduce): Conv2dStaticSamePadding(\n",
            "        96, 4, kernel_size=(1, 1), stride=(1, 1)\n",
            "        (static_padding): Identity()\n",
            "      )\n",
            "      (_se_expand): Conv2dStaticSamePadding(\n",
            "        4, 96, kernel_size=(1, 1), stride=(1, 1)\n",
            "        (static_padding): Identity()\n",
            "      )\n",
            "      (_project_conv): Conv2dStaticSamePadding(\n",
            "        96, 24, kernel_size=(1, 1), stride=(1, 1), bias=False\n",
            "        (static_padding): Identity()\n",
            "      )\n",
            "      (_bn2): BatchNorm2d(24, eps=0.001, momentum=0.010000000000000009, affine=True, track_running_stats=True)\n",
            "      (_swish): MemoryEfficientSwish()\n",
            "    )\n",
            "    (2): MBConvBlock(\n",
            "      (_expand_conv): Conv2dStaticSamePadding(\n",
            "        24, 144, kernel_size=(1, 1), stride=(1, 1), bias=False\n",
            "        (static_padding): Identity()\n",
            "      )\n",
            "      (_bn0): BatchNorm2d(144, eps=0.001, momentum=0.010000000000000009, affine=True, track_running_stats=True)\n",
            "      (_depthwise_conv): Conv2dStaticSamePadding(\n",
            "        144, 144, kernel_size=(3, 3), stride=(1, 1), groups=144, bias=False\n",
            "        (static_padding): ZeroPad2d(padding=(1, 1, 1, 1), value=0.0)\n",
            "      )\n",
            "      (_bn1): BatchNorm2d(144, eps=0.001, momentum=0.010000000000000009, affine=True, track_running_stats=True)\n",
            "      (_se_reduce): Conv2dStaticSamePadding(\n",
            "        144, 6, kernel_size=(1, 1), stride=(1, 1)\n",
            "        (static_padding): Identity()\n",
            "      )\n",
            "      (_se_expand): Conv2dStaticSamePadding(\n",
            "        6, 144, kernel_size=(1, 1), stride=(1, 1)\n",
            "        (static_padding): Identity()\n",
            "      )\n",
            "      (_project_conv): Conv2dStaticSamePadding(\n",
            "        144, 24, kernel_size=(1, 1), stride=(1, 1), bias=False\n",
            "        (static_padding): Identity()\n",
            "      )\n",
            "      (_bn2): BatchNorm2d(24, eps=0.001, momentum=0.010000000000000009, affine=True, track_running_stats=True)\n",
            "      (_swish): MemoryEfficientSwish()\n",
            "    )\n",
            "    (3): MBConvBlock(\n",
            "      (_expand_conv): Conv2dStaticSamePadding(\n",
            "        24, 144, kernel_size=(1, 1), stride=(1, 1), bias=False\n",
            "        (static_padding): Identity()\n",
            "      )\n",
            "      (_bn0): BatchNorm2d(144, eps=0.001, momentum=0.010000000000000009, affine=True, track_running_stats=True)\n",
            "      (_depthwise_conv): Conv2dStaticSamePadding(\n",
            "        144, 144, kernel_size=(5, 5), stride=[2, 2], groups=144, bias=False\n",
            "        (static_padding): ZeroPad2d(padding=(2, 2, 2, 2), value=0.0)\n",
            "      )\n",
            "      (_bn1): BatchNorm2d(144, eps=0.001, momentum=0.010000000000000009, affine=True, track_running_stats=True)\n",
            "      (_se_reduce): Conv2dStaticSamePadding(\n",
            "        144, 6, kernel_size=(1, 1), stride=(1, 1)\n",
            "        (static_padding): Identity()\n",
            "      )\n",
            "      (_se_expand): Conv2dStaticSamePadding(\n",
            "        6, 144, kernel_size=(1, 1), stride=(1, 1)\n",
            "        (static_padding): Identity()\n",
            "      )\n",
            "      (_project_conv): Conv2dStaticSamePadding(\n",
            "        144, 40, kernel_size=(1, 1), stride=(1, 1), bias=False\n",
            "        (static_padding): Identity()\n",
            "      )\n",
            "      (_bn2): BatchNorm2d(40, eps=0.001, momentum=0.010000000000000009, affine=True, track_running_stats=True)\n",
            "      (_swish): MemoryEfficientSwish()\n",
            "    )\n",
            "    (4): MBConvBlock(\n",
            "      (_expand_conv): Conv2dStaticSamePadding(\n",
            "        40, 240, kernel_size=(1, 1), stride=(1, 1), bias=False\n",
            "        (static_padding): Identity()\n",
            "      )\n",
            "      (_bn0): BatchNorm2d(240, eps=0.001, momentum=0.010000000000000009, affine=True, track_running_stats=True)\n",
            "      (_depthwise_conv): Conv2dStaticSamePadding(\n",
            "        240, 240, kernel_size=(5, 5), stride=(1, 1), groups=240, bias=False\n",
            "        (static_padding): ZeroPad2d(padding=(2, 2, 2, 2), value=0.0)\n",
            "      )\n",
            "      (_bn1): BatchNorm2d(240, eps=0.001, momentum=0.010000000000000009, affine=True, track_running_stats=True)\n",
            "      (_se_reduce): Conv2dStaticSamePadding(\n",
            "        240, 10, kernel_size=(1, 1), stride=(1, 1)\n",
            "        (static_padding): Identity()\n",
            "      )\n",
            "      (_se_expand): Conv2dStaticSamePadding(\n",
            "        10, 240, kernel_size=(1, 1), stride=(1, 1)\n",
            "        (static_padding): Identity()\n",
            "      )\n",
            "      (_project_conv): Conv2dStaticSamePadding(\n",
            "        240, 40, kernel_size=(1, 1), stride=(1, 1), bias=False\n",
            "        (static_padding): Identity()\n",
            "      )\n",
            "      (_bn2): BatchNorm2d(40, eps=0.001, momentum=0.010000000000000009, affine=True, track_running_stats=True)\n",
            "      (_swish): MemoryEfficientSwish()\n",
            "    )\n",
            "    (5): MBConvBlock(\n",
            "      (_expand_conv): Conv2dStaticSamePadding(\n",
            "        40, 240, kernel_size=(1, 1), stride=(1, 1), bias=False\n",
            "        (static_padding): Identity()\n",
            "      )\n",
            "      (_bn0): BatchNorm2d(240, eps=0.001, momentum=0.010000000000000009, affine=True, track_running_stats=True)\n",
            "      (_depthwise_conv): Conv2dStaticSamePadding(\n",
            "        240, 240, kernel_size=(3, 3), stride=[2, 2], groups=240, bias=False\n",
            "        (static_padding): ZeroPad2d(padding=(1, 1, 1, 1), value=0.0)\n",
            "      )\n",
            "      (_bn1): BatchNorm2d(240, eps=0.001, momentum=0.010000000000000009, affine=True, track_running_stats=True)\n",
            "      (_se_reduce): Conv2dStaticSamePadding(\n",
            "        240, 10, kernel_size=(1, 1), stride=(1, 1)\n",
            "        (static_padding): Identity()\n",
            "      )\n",
            "      (_se_expand): Conv2dStaticSamePadding(\n",
            "        10, 240, kernel_size=(1, 1), stride=(1, 1)\n",
            "        (static_padding): Identity()\n",
            "      )\n",
            "      (_project_conv): Conv2dStaticSamePadding(\n",
            "        240, 80, kernel_size=(1, 1), stride=(1, 1), bias=False\n",
            "        (static_padding): Identity()\n",
            "      )\n",
            "      (_bn2): BatchNorm2d(80, eps=0.001, momentum=0.010000000000000009, affine=True, track_running_stats=True)\n",
            "      (_swish): MemoryEfficientSwish()\n",
            "    )\n",
            "    (6): MBConvBlock(\n",
            "      (_expand_conv): Conv2dStaticSamePadding(\n",
            "        80, 480, kernel_size=(1, 1), stride=(1, 1), bias=False\n",
            "        (static_padding): Identity()\n",
            "      )\n",
            "      (_bn0): BatchNorm2d(480, eps=0.001, momentum=0.010000000000000009, affine=True, track_running_stats=True)\n",
            "      (_depthwise_conv): Conv2dStaticSamePadding(\n",
            "        480, 480, kernel_size=(3, 3), stride=(1, 1), groups=480, bias=False\n",
            "        (static_padding): ZeroPad2d(padding=(1, 1, 1, 1), value=0.0)\n",
            "      )\n",
            "      (_bn1): BatchNorm2d(480, eps=0.001, momentum=0.010000000000000009, affine=True, track_running_stats=True)\n",
            "      (_se_reduce): Conv2dStaticSamePadding(\n",
            "        480, 20, kernel_size=(1, 1), stride=(1, 1)\n",
            "        (static_padding): Identity()\n",
            "      )\n",
            "      (_se_expand): Conv2dStaticSamePadding(\n",
            "        20, 480, kernel_size=(1, 1), stride=(1, 1)\n",
            "        (static_padding): Identity()\n",
            "      )\n",
            "      (_project_conv): Conv2dStaticSamePadding(\n",
            "        480, 80, kernel_size=(1, 1), stride=(1, 1), bias=False\n",
            "        (static_padding): Identity()\n",
            "      )\n",
            "      (_bn2): BatchNorm2d(80, eps=0.001, momentum=0.010000000000000009, affine=True, track_running_stats=True)\n",
            "      (_swish): MemoryEfficientSwish()\n",
            "    )\n",
            "    (7): MBConvBlock(\n",
            "      (_expand_conv): Conv2dStaticSamePadding(\n",
            "        80, 480, kernel_size=(1, 1), stride=(1, 1), bias=False\n",
            "        (static_padding): Identity()\n",
            "      )\n",
            "      (_bn0): BatchNorm2d(480, eps=0.001, momentum=0.010000000000000009, affine=True, track_running_stats=True)\n",
            "      (_depthwise_conv): Conv2dStaticSamePadding(\n",
            "        480, 480, kernel_size=(3, 3), stride=(1, 1), groups=480, bias=False\n",
            "        (static_padding): ZeroPad2d(padding=(1, 1, 1, 1), value=0.0)\n",
            "      )\n",
            "      (_bn1): BatchNorm2d(480, eps=0.001, momentum=0.010000000000000009, affine=True, track_running_stats=True)\n",
            "      (_se_reduce): Conv2dStaticSamePadding(\n",
            "        480, 20, kernel_size=(1, 1), stride=(1, 1)\n",
            "        (static_padding): Identity()\n",
            "      )\n",
            "      (_se_expand): Conv2dStaticSamePadding(\n",
            "        20, 480, kernel_size=(1, 1), stride=(1, 1)\n",
            "        (static_padding): Identity()\n",
            "      )\n",
            "      (_project_conv): Conv2dStaticSamePadding(\n",
            "        480, 80, kernel_size=(1, 1), stride=(1, 1), bias=False\n",
            "        (static_padding): Identity()\n",
            "      )\n",
            "      (_bn2): BatchNorm2d(80, eps=0.001, momentum=0.010000000000000009, affine=True, track_running_stats=True)\n",
            "      (_swish): MemoryEfficientSwish()\n",
            "    )\n",
            "    (8): MBConvBlock(\n",
            "      (_expand_conv): Conv2dStaticSamePadding(\n",
            "        80, 480, kernel_size=(1, 1), stride=(1, 1), bias=False\n",
            "        (static_padding): Identity()\n",
            "      )\n",
            "      (_bn0): BatchNorm2d(480, eps=0.001, momentum=0.010000000000000009, affine=True, track_running_stats=True)\n",
            "      (_depthwise_conv): Conv2dStaticSamePadding(\n",
            "        480, 480, kernel_size=(5, 5), stride=[1, 1], groups=480, bias=False\n",
            "        (static_padding): ZeroPad2d(padding=(2, 2, 2, 2), value=0.0)\n",
            "      )\n",
            "      (_bn1): BatchNorm2d(480, eps=0.001, momentum=0.010000000000000009, affine=True, track_running_stats=True)\n",
            "      (_se_reduce): Conv2dStaticSamePadding(\n",
            "        480, 20, kernel_size=(1, 1), stride=(1, 1)\n",
            "        (static_padding): Identity()\n",
            "      )\n",
            "      (_se_expand): Conv2dStaticSamePadding(\n",
            "        20, 480, kernel_size=(1, 1), stride=(1, 1)\n",
            "        (static_padding): Identity()\n",
            "      )\n",
            "      (_project_conv): Conv2dStaticSamePadding(\n",
            "        480, 112, kernel_size=(1, 1), stride=(1, 1), bias=False\n",
            "        (static_padding): Identity()\n",
            "      )\n",
            "      (_bn2): BatchNorm2d(112, eps=0.001, momentum=0.010000000000000009, affine=True, track_running_stats=True)\n",
            "      (_swish): MemoryEfficientSwish()\n",
            "    )\n",
            "    (9): MBConvBlock(\n",
            "      (_expand_conv): Conv2dStaticSamePadding(\n",
            "        112, 672, kernel_size=(1, 1), stride=(1, 1), bias=False\n",
            "        (static_padding): Identity()\n",
            "      )\n",
            "      (_bn0): BatchNorm2d(672, eps=0.001, momentum=0.010000000000000009, affine=True, track_running_stats=True)\n",
            "      (_depthwise_conv): Conv2dStaticSamePadding(\n",
            "        672, 672, kernel_size=(5, 5), stride=(1, 1), groups=672, bias=False\n",
            "        (static_padding): ZeroPad2d(padding=(2, 2, 2, 2), value=0.0)\n",
            "      )\n",
            "      (_bn1): BatchNorm2d(672, eps=0.001, momentum=0.010000000000000009, affine=True, track_running_stats=True)\n",
            "      (_se_reduce): Conv2dStaticSamePadding(\n",
            "        672, 28, kernel_size=(1, 1), stride=(1, 1)\n",
            "        (static_padding): Identity()\n",
            "      )\n",
            "      (_se_expand): Conv2dStaticSamePadding(\n",
            "        28, 672, kernel_size=(1, 1), stride=(1, 1)\n",
            "        (static_padding): Identity()\n",
            "      )\n",
            "      (_project_conv): Conv2dStaticSamePadding(\n",
            "        672, 112, kernel_size=(1, 1), stride=(1, 1), bias=False\n",
            "        (static_padding): Identity()\n",
            "      )\n",
            "      (_bn2): BatchNorm2d(112, eps=0.001, momentum=0.010000000000000009, affine=True, track_running_stats=True)\n",
            "      (_swish): MemoryEfficientSwish()\n",
            "    )\n",
            "    (10): MBConvBlock(\n",
            "      (_expand_conv): Conv2dStaticSamePadding(\n",
            "        112, 672, kernel_size=(1, 1), stride=(1, 1), bias=False\n",
            "        (static_padding): Identity()\n",
            "      )\n",
            "      (_bn0): BatchNorm2d(672, eps=0.001, momentum=0.010000000000000009, affine=True, track_running_stats=True)\n",
            "      (_depthwise_conv): Conv2dStaticSamePadding(\n",
            "        672, 672, kernel_size=(5, 5), stride=(1, 1), groups=672, bias=False\n",
            "        (static_padding): ZeroPad2d(padding=(2, 2, 2, 2), value=0.0)\n",
            "      )\n",
            "      (_bn1): BatchNorm2d(672, eps=0.001, momentum=0.010000000000000009, affine=True, track_running_stats=True)\n",
            "      (_se_reduce): Conv2dStaticSamePadding(\n",
            "        672, 28, kernel_size=(1, 1), stride=(1, 1)\n",
            "        (static_padding): Identity()\n",
            "      )\n",
            "      (_se_expand): Conv2dStaticSamePadding(\n",
            "        28, 672, kernel_size=(1, 1), stride=(1, 1)\n",
            "        (static_padding): Identity()\n",
            "      )\n",
            "      (_project_conv): Conv2dStaticSamePadding(\n",
            "        672, 112, kernel_size=(1, 1), stride=(1, 1), bias=False\n",
            "        (static_padding): Identity()\n",
            "      )\n",
            "      (_bn2): BatchNorm2d(112, eps=0.001, momentum=0.010000000000000009, affine=True, track_running_stats=True)\n",
            "      (_swish): MemoryEfficientSwish()\n",
            "    )\n",
            "    (11): MBConvBlock(\n",
            "      (_expand_conv): Conv2dStaticSamePadding(\n",
            "        112, 672, kernel_size=(1, 1), stride=(1, 1), bias=False\n",
            "        (static_padding): Identity()\n",
            "      )\n",
            "      (_bn0): BatchNorm2d(672, eps=0.001, momentum=0.010000000000000009, affine=True, track_running_stats=True)\n",
            "      (_depthwise_conv): Conv2dStaticSamePadding(\n",
            "        672, 672, kernel_size=(5, 5), stride=[2, 2], groups=672, bias=False\n",
            "        (static_padding): ZeroPad2d(padding=(2, 2, 2, 2), value=0.0)\n",
            "      )\n",
            "      (_bn1): BatchNorm2d(672, eps=0.001, momentum=0.010000000000000009, affine=True, track_running_stats=True)\n",
            "      (_se_reduce): Conv2dStaticSamePadding(\n",
            "        672, 28, kernel_size=(1, 1), stride=(1, 1)\n",
            "        (static_padding): Identity()\n",
            "      )\n",
            "      (_se_expand): Conv2dStaticSamePadding(\n",
            "        28, 672, kernel_size=(1, 1), stride=(1, 1)\n",
            "        (static_padding): Identity()\n",
            "      )\n",
            "      (_project_conv): Conv2dStaticSamePadding(\n",
            "        672, 192, kernel_size=(1, 1), stride=(1, 1), bias=False\n",
            "        (static_padding): Identity()\n",
            "      )\n",
            "      (_bn2): BatchNorm2d(192, eps=0.001, momentum=0.010000000000000009, affine=True, track_running_stats=True)\n",
            "      (_swish): MemoryEfficientSwish()\n",
            "    )\n",
            "    (12): MBConvBlock(\n",
            "      (_expand_conv): Conv2dStaticSamePadding(\n",
            "        192, 1152, kernel_size=(1, 1), stride=(1, 1), bias=False\n",
            "        (static_padding): Identity()\n",
            "      )\n",
            "      (_bn0): BatchNorm2d(1152, eps=0.001, momentum=0.010000000000000009, affine=True, track_running_stats=True)\n",
            "      (_depthwise_conv): Conv2dStaticSamePadding(\n",
            "        1152, 1152, kernel_size=(5, 5), stride=(1, 1), groups=1152, bias=False\n",
            "        (static_padding): ZeroPad2d(padding=(2, 2, 2, 2), value=0.0)\n",
            "      )\n",
            "      (_bn1): BatchNorm2d(1152, eps=0.001, momentum=0.010000000000000009, affine=True, track_running_stats=True)\n",
            "      (_se_reduce): Conv2dStaticSamePadding(\n",
            "        1152, 48, kernel_size=(1, 1), stride=(1, 1)\n",
            "        (static_padding): Identity()\n",
            "      )\n",
            "      (_se_expand): Conv2dStaticSamePadding(\n",
            "        48, 1152, kernel_size=(1, 1), stride=(1, 1)\n",
            "        (static_padding): Identity()\n",
            "      )\n",
            "      (_project_conv): Conv2dStaticSamePadding(\n",
            "        1152, 192, kernel_size=(1, 1), stride=(1, 1), bias=False\n",
            "        (static_padding): Identity()\n",
            "      )\n",
            "      (_bn2): BatchNorm2d(192, eps=0.001, momentum=0.010000000000000009, affine=True, track_running_stats=True)\n",
            "      (_swish): MemoryEfficientSwish()\n",
            "    )\n",
            "    (13): MBConvBlock(\n",
            "      (_expand_conv): Conv2dStaticSamePadding(\n",
            "        192, 1152, kernel_size=(1, 1), stride=(1, 1), bias=False\n",
            "        (static_padding): Identity()\n",
            "      )\n",
            "      (_bn0): BatchNorm2d(1152, eps=0.001, momentum=0.010000000000000009, affine=True, track_running_stats=True)\n",
            "      (_depthwise_conv): Conv2dStaticSamePadding(\n",
            "        1152, 1152, kernel_size=(5, 5), stride=(1, 1), groups=1152, bias=False\n",
            "        (static_padding): ZeroPad2d(padding=(2, 2, 2, 2), value=0.0)\n",
            "      )\n",
            "      (_bn1): BatchNorm2d(1152, eps=0.001, momentum=0.010000000000000009, affine=True, track_running_stats=True)\n",
            "      (_se_reduce): Conv2dStaticSamePadding(\n",
            "        1152, 48, kernel_size=(1, 1), stride=(1, 1)\n",
            "        (static_padding): Identity()\n",
            "      )\n",
            "      (_se_expand): Conv2dStaticSamePadding(\n",
            "        48, 1152, kernel_size=(1, 1), stride=(1, 1)\n",
            "        (static_padding): Identity()\n",
            "      )\n",
            "      (_project_conv): Conv2dStaticSamePadding(\n",
            "        1152, 192, kernel_size=(1, 1), stride=(1, 1), bias=False\n",
            "        (static_padding): Identity()\n",
            "      )\n",
            "      (_bn2): BatchNorm2d(192, eps=0.001, momentum=0.010000000000000009, affine=True, track_running_stats=True)\n",
            "      (_swish): MemoryEfficientSwish()\n",
            "    )\n",
            "    (14): MBConvBlock(\n",
            "      (_expand_conv): Conv2dStaticSamePadding(\n",
            "        192, 1152, kernel_size=(1, 1), stride=(1, 1), bias=False\n",
            "        (static_padding): Identity()\n",
            "      )\n",
            "      (_bn0): BatchNorm2d(1152, eps=0.001, momentum=0.010000000000000009, affine=True, track_running_stats=True)\n",
            "      (_depthwise_conv): Conv2dStaticSamePadding(\n",
            "        1152, 1152, kernel_size=(5, 5), stride=(1, 1), groups=1152, bias=False\n",
            "        (static_padding): ZeroPad2d(padding=(2, 2, 2, 2), value=0.0)\n",
            "      )\n",
            "      (_bn1): BatchNorm2d(1152, eps=0.001, momentum=0.010000000000000009, affine=True, track_running_stats=True)\n",
            "      (_se_reduce): Conv2dStaticSamePadding(\n",
            "        1152, 48, kernel_size=(1, 1), stride=(1, 1)\n",
            "        (static_padding): Identity()\n",
            "      )\n",
            "      (_se_expand): Conv2dStaticSamePadding(\n",
            "        48, 1152, kernel_size=(1, 1), stride=(1, 1)\n",
            "        (static_padding): Identity()\n",
            "      )\n",
            "      (_project_conv): Conv2dStaticSamePadding(\n",
            "        1152, 192, kernel_size=(1, 1), stride=(1, 1), bias=False\n",
            "        (static_padding): Identity()\n",
            "      )\n",
            "      (_bn2): BatchNorm2d(192, eps=0.001, momentum=0.010000000000000009, affine=True, track_running_stats=True)\n",
            "      (_swish): MemoryEfficientSwish()\n",
            "    )\n",
            "    (15): MBConvBlock(\n",
            "      (_expand_conv): Conv2dStaticSamePadding(\n",
            "        192, 1152, kernel_size=(1, 1), stride=(1, 1), bias=False\n",
            "        (static_padding): Identity()\n",
            "      )\n",
            "      (_bn0): BatchNorm2d(1152, eps=0.001, momentum=0.010000000000000009, affine=True, track_running_stats=True)\n",
            "      (_depthwise_conv): Conv2dStaticSamePadding(\n",
            "        1152, 1152, kernel_size=(3, 3), stride=[1, 1], groups=1152, bias=False\n",
            "        (static_padding): ZeroPad2d(padding=(1, 1, 1, 1), value=0.0)\n",
            "      )\n",
            "      (_bn1): BatchNorm2d(1152, eps=0.001, momentum=0.010000000000000009, affine=True, track_running_stats=True)\n",
            "      (_se_reduce): Conv2dStaticSamePadding(\n",
            "        1152, 48, kernel_size=(1, 1), stride=(1, 1)\n",
            "        (static_padding): Identity()\n",
            "      )\n",
            "      (_se_expand): Conv2dStaticSamePadding(\n",
            "        48, 1152, kernel_size=(1, 1), stride=(1, 1)\n",
            "        (static_padding): Identity()\n",
            "      )\n",
            "      (_project_conv): Conv2dStaticSamePadding(\n",
            "        1152, 320, kernel_size=(1, 1), stride=(1, 1), bias=False\n",
            "        (static_padding): Identity()\n",
            "      )\n",
            "      (_bn2): BatchNorm2d(320, eps=0.001, momentum=0.010000000000000009, affine=True, track_running_stats=True)\n",
            "      (_swish): MemoryEfficientSwish()\n",
            "    )\n",
            "  )\n",
            "  (_conv_head): Conv2dStaticSamePadding(\n",
            "    320, 1280, kernel_size=(1, 1), stride=(1, 1), bias=False\n",
            "    (static_padding): Identity()\n",
            "  )\n",
            "  (_bn1): BatchNorm2d(1280, eps=0.001, momentum=0.010000000000000009, affine=True, track_running_stats=True)\n",
            "  (_avg_pooling): AdaptiveAvgPool2d(output_size=1)\n",
            "  (_dropout): Dropout(p=0.2, inplace=False)\n",
            "  (_fc): Linear(in_features=1280, out_features=1000, bias=True)\n",
            "  (_swish): MemoryEfficientSwish()\n",
            "  (fc): Linear(in_features=1280, out_features=22, bias=True)\n",
            ")\n"
          ],
          "name": "stdout"
        }
      ]
    },
    {
      "cell_type": "code",
      "metadata": {
        "id": "0g9MSPODHV8s",
        "colab_type": "code",
        "colab": {
          "base_uri": "https://localhost:8080/",
          "height": 53
        },
        "outputId": "9718119b-80f2-4441-df46-f9d3a174d851"
      },
      "source": [
        "\n",
        "criterion = nn.CrossEntropyLoss()\n",
        "\n",
        "optimizer_ft = optim.SGD(model.parameters(), \n",
        "                         lr = 0.05,\n",
        "                         momentum=0.9,\n",
        "                         weight_decay=1e-4)\n",
        "\n",
        "lmbda = lambda epoch: 0.98739\n",
        "exp_lr_scheduler = optim.lr_scheduler.MultiplicativeLR(optimizer_ft, lr_lambda=lmbda)\n",
        "\n",
        "'''\n",
        "criterion = nn.CrossEntropyLoss()\n",
        "optimizer_ft = optim.SGD(model.parameters(), lr=0.001, momentum=0.9)\n",
        "exp_lr_scheduler = lr_scheduler.ReduceLROnPlateau(optimizer_ft, factor=0.1, patience=5)\n",
        "'''"
      ],
      "execution_count": 33,
      "outputs": [
        {
          "output_type": "execute_result",
          "data": {
            "application/vnd.google.colaboratory.intrinsic+json": {
              "type": "string"
            },
            "text/plain": [
              "'\\ncriterion = nn.CrossEntropyLoss()\\noptimizer_ft = optim.SGD(model.parameters(), lr=0.001, momentum=0.9)\\nexp_lr_scheduler = lr_scheduler.ReduceLROnPlateau(optimizer_ft, factor=0.1, patience=5)\\n'"
            ]
          },
          "metadata": {
            "tags": []
          },
          "execution_count": 33
        }
      ]
    },
    {
      "cell_type": "markdown",
      "metadata": {
        "id": "wyLOZQZm_G_-",
        "colab_type": "text"
      },
      "source": [
        "## 데이타 체크"
      ]
    },
    {
      "cell_type": "code",
      "metadata": {
        "id": "0aCZx8ABEYwd",
        "colab_type": "code",
        "colab": {}
      },
      "source": [
        "def train_model(model, criterion, optimizer, scheduler, num_epochs=8):\n",
        "    \n",
        "    global_info = []\n",
        "    since = time.time()\n",
        "\n",
        "    best_model_wts = copy.deepcopy(model.state_dict()) # state_dict() = 모델 불러오기 \n",
        "    best_acc = 0.0\n",
        "    early_stopping = EarlyStopping(patience=11, verbose=True)  # EarlyStopping = 11번에 큰 변화가 없다면 학습을 그만한다.\n",
        "    for epoch in range(num_epochs):\n",
        "        local_info = []\n",
        "        print('Epoch {}/{}'.format(epoch, num_epochs - 1))\n",
        "        print('-' * 10)                                            #train 시작\n",
        "\n",
        "        for phase in ['train', 'val']:\n",
        "            if phase == 'train':\n",
        "                model.train()                                   # list에 train이면 학습 val이면 평가 \n",
        "            else:\n",
        "                model.eval()                              \n",
        "                \n",
        " #               if epoch > 0:\n",
        " #                   scheduler.step(val_loss)\n",
        "                    \n",
        "            running_loss = 0.0\n",
        "            running_corrects = 0\n",
        "\n",
        "            for inputs, labels in trLoaders[phase]:\n",
        "                inputs = inputs.to(device)\n",
        "                labels = labels.to(device)\n",
        "\n",
        "                optimizer.zero_grad()                              # 가중치 변화도 = 0 >> forward \n",
        "\n",
        "                # forward\n",
        "                # tensor는 인풋값이 디폴트는 그래디언트가 안들어가있는데 이 값을  \n",
        "                # track history if only in train\n",
        "                with torch.set_grad_enabled(phase == 'train'):\n",
        "                    outputs = model(inputs)\n",
        "                    _, preds = torch.max(outputs, 1)                              # torch.max(output,1)은 아웃풋이 [0.1, 0.2, 0.9]일때 (0.9[값] ,2[인덱스])가 나온다 \n",
        "                    loss = criterion(outputs, labels)\n",
        "\n",
        "                    # backward + optimize only if in training phase\n",
        "                    if phase == 'train':\n",
        "                        loss.backward()\n",
        "                        optimizer.step()                              # backward로 최신화로 스텝으로 가자 \n",
        "\n",
        "                running_loss += loss.item() * inputs.size(0)          # item() = tensor값을 scalar값으로 표기 * input.size(0)      \n",
        "            \n",
        "                running_corrects += torch.sum(preds == labels.data)\n",
        "\n",
        "            epoch_loss = running_loss / trDsets_sizes[phase]\n",
        "            if phase == 'val':\n",
        "                val_loss = running_loss / trDsets_sizes['val']\n",
        "            epoch_acc = running_corrects.double() / trDsets_sizes[phase]\n",
        "\n",
        "            if phase == 'train':\n",
        "                local_info.append(epoch_loss)\n",
        "                ea = epoch_acc.cpu().numpy()\n",
        "                local_info.append(ea)\n",
        "            else:\n",
        "                local_info.append(epoch_loss)\n",
        "                ea = epoch_acc.cpu().numpy()\n",
        "                local_info.append(ea)\n",
        "\n",
        "            print('{} Loss: {:.4f} Acc: {:.4f}'.format(phase, epoch_loss, epoch_acc))\n",
        "\n",
        "            if phase == 'val' and epoch_acc > best_acc:\n",
        "                best_acc = epoch_acc\n",
        "                best_model_wts = copy.deepcopy(model.state_dict())\n",
        " \n",
        "        lr_get = get_lr(optimizer)\n",
        "        print(\"Current learning rate : {:.8f}\".format(lr_get))\n",
        "        global_info.append(local_info)\n",
        "        \n",
        "        if phase =='val':\n",
        "            early_stopping(epoch_loss, model)\n",
        "\n",
        "            if early_stopping.early_stop:\n",
        "                print(\"Early stopping\")\n",
        "                break\n",
        "\n",
        "    time_elapsed = time.time() - since\n",
        "    print('Training complete in {:.0f}m {:.0f}s'.format(time_elapsed // 60, time_elapsed % 60))\n",
        "    print('Best val Acc: {:4f}'.format(best_acc))\n",
        "\n",
        "    # load best model weights\n",
        "    model.load_state_dict(best_model_wts)\n",
        "    return model\n",
        "\n",
        "def get_lr(optimizer):\n",
        "    for param_group in optimizer.param_groups:\n",
        "        return param_group['lr']\n",
        "    \n",
        "class EarlyStopping:\n",
        "    def __init__(self, patience=7, verbose=False, delta=0, path='checkpoint.pt', trace_func=print):\n",
        "        self.patience = patience\n",
        "        self.verbose = verbose\n",
        "        self.counter = 0\n",
        "        self.best_score = None\n",
        "        self.early_stop = False\n",
        "        self.val_loss_min = np.Inf\n",
        "        self.delta = delta\n",
        "        self.path = path\n",
        "        self.trace_func = trace_func\n",
        "        \n",
        "    def __call__(self, val_loss, model):\n",
        "\n",
        "        score = -val_loss\n",
        "\n",
        "        if self.best_score is None:\n",
        "            self.best_score = score\n",
        "            self.save_checkpoint(val_loss, model)\n",
        "        elif score < self.best_score + self.delta:\n",
        "            self.counter += 1\n",
        "            self.trace_func(f'EarlyStopping counter: {self.counter} out of {self.patience}')\n",
        "            if self.counter >= self.patience:\n",
        "                self.early_stop = True\n",
        "        else:\n",
        "            self.best_score = score\n",
        "            self.save_checkpoint(val_loss, model)\n",
        "            self.counter = 0\n",
        "\n",
        "    def save_checkpoint(self, val_loss, model):\n",
        "        if self.verbose:\n",
        "            self.trace_func(f'Validation loss decreased ({self.val_loss_min:.6f} --> {val_loss:.6f}).  Saving model ...')\n",
        "        torch.save(model.state_dict(), self.path)\n",
        "        self.val_loss_min = val_loss"
      ],
      "execution_count": 34,
      "outputs": []
    },
    {
      "cell_type": "code",
      "metadata": {
        "id": "KpW-bFFOEsN2",
        "colab_type": "code",
        "colab": {
          "base_uri": "https://localhost:8080/",
          "height": 394
        },
        "outputId": "1ddd5cd1-5af5-4aef-94ee-cd5c005f95be"
      },
      "source": [
        "\n",
        "torch.cuda.empty_cache()\n",
        "model_ft = train_model(model, criterion, optimizer_ft, exp_lr_scheduler, num_epochs=100)\n"
      ],
      "execution_count": 35,
      "outputs": [
        {
          "output_type": "stream",
          "text": [
            "Epoch 0/99\n",
            "----------\n"
          ],
          "name": "stdout"
        },
        {
          "output_type": "error",
          "ename": "KeyboardInterrupt",
          "evalue": "ignored",
          "traceback": [
            "\u001b[0;31m---------------------------------------------------------------------------\u001b[0m",
            "\u001b[0;31mKeyboardInterrupt\u001b[0m                         Traceback (most recent call last)",
            "\u001b[0;32m<ipython-input-35-fc74892b6bbb>\u001b[0m in \u001b[0;36m<module>\u001b[0;34m()\u001b[0m\n\u001b[1;32m      1\u001b[0m \u001b[0;34m\u001b[0m\u001b[0m\n\u001b[1;32m      2\u001b[0m \u001b[0mtorch\u001b[0m\u001b[0;34m.\u001b[0m\u001b[0mcuda\u001b[0m\u001b[0;34m.\u001b[0m\u001b[0mempty_cache\u001b[0m\u001b[0;34m(\u001b[0m\u001b[0;34m)\u001b[0m\u001b[0;34m\u001b[0m\u001b[0;34m\u001b[0m\u001b[0m\n\u001b[0;32m----> 3\u001b[0;31m \u001b[0mmodel_ft\u001b[0m \u001b[0;34m=\u001b[0m \u001b[0mtrain_model\u001b[0m\u001b[0;34m(\u001b[0m\u001b[0mmodel\u001b[0m\u001b[0;34m,\u001b[0m \u001b[0mcriterion\u001b[0m\u001b[0;34m,\u001b[0m \u001b[0moptimizer_ft\u001b[0m\u001b[0;34m,\u001b[0m \u001b[0mexp_lr_scheduler\u001b[0m\u001b[0;34m,\u001b[0m \u001b[0mnum_epochs\u001b[0m\u001b[0;34m=\u001b[0m\u001b[0;36m100\u001b[0m\u001b[0;34m)\u001b[0m\u001b[0;34m\u001b[0m\u001b[0;34m\u001b[0m\u001b[0m\n\u001b[0m",
            "\u001b[0;32m<ipython-input-34-3238fbbf7705>\u001b[0m in \u001b[0;36mtrain_model\u001b[0;34m(model, criterion, optimizer, scheduler, num_epochs)\u001b[0m\n\u001b[1;32m     24\u001b[0m             \u001b[0mrunning_corrects\u001b[0m \u001b[0;34m=\u001b[0m \u001b[0;36m0\u001b[0m\u001b[0;34m\u001b[0m\u001b[0;34m\u001b[0m\u001b[0m\n\u001b[1;32m     25\u001b[0m \u001b[0;34m\u001b[0m\u001b[0m\n\u001b[0;32m---> 26\u001b[0;31m             \u001b[0;32mfor\u001b[0m \u001b[0minputs\u001b[0m\u001b[0;34m,\u001b[0m \u001b[0mlabels\u001b[0m \u001b[0;32min\u001b[0m \u001b[0mtrLoaders\u001b[0m\u001b[0;34m[\u001b[0m\u001b[0mphase\u001b[0m\u001b[0;34m]\u001b[0m\u001b[0;34m:\u001b[0m\u001b[0;34m\u001b[0m\u001b[0;34m\u001b[0m\u001b[0m\n\u001b[0m\u001b[1;32m     27\u001b[0m                 \u001b[0minputs\u001b[0m \u001b[0;34m=\u001b[0m \u001b[0minputs\u001b[0m\u001b[0;34m.\u001b[0m\u001b[0mto\u001b[0m\u001b[0;34m(\u001b[0m\u001b[0mdevice\u001b[0m\u001b[0;34m)\u001b[0m\u001b[0;34m\u001b[0m\u001b[0;34m\u001b[0m\u001b[0m\n\u001b[1;32m     28\u001b[0m                 \u001b[0mlabels\u001b[0m \u001b[0;34m=\u001b[0m \u001b[0mlabels\u001b[0m\u001b[0;34m.\u001b[0m\u001b[0mto\u001b[0m\u001b[0;34m(\u001b[0m\u001b[0mdevice\u001b[0m\u001b[0;34m)\u001b[0m\u001b[0;34m\u001b[0m\u001b[0;34m\u001b[0m\u001b[0m\n",
            "\u001b[0;32m/usr/local/lib/python3.6/dist-packages/torch/utils/data/dataloader.py\u001b[0m in \u001b[0;36m__next__\u001b[0;34m(self)\u001b[0m\n\u001b[1;32m    361\u001b[0m \u001b[0;34m\u001b[0m\u001b[0m\n\u001b[1;32m    362\u001b[0m     \u001b[0;32mdef\u001b[0m \u001b[0m__next__\u001b[0m\u001b[0;34m(\u001b[0m\u001b[0mself\u001b[0m\u001b[0;34m)\u001b[0m\u001b[0;34m:\u001b[0m\u001b[0;34m\u001b[0m\u001b[0;34m\u001b[0m\u001b[0m\n\u001b[0;32m--> 363\u001b[0;31m         \u001b[0mdata\u001b[0m \u001b[0;34m=\u001b[0m \u001b[0mself\u001b[0m\u001b[0;34m.\u001b[0m\u001b[0m_next_data\u001b[0m\u001b[0;34m(\u001b[0m\u001b[0;34m)\u001b[0m\u001b[0;34m\u001b[0m\u001b[0;34m\u001b[0m\u001b[0m\n\u001b[0m\u001b[1;32m    364\u001b[0m         \u001b[0mself\u001b[0m\u001b[0;34m.\u001b[0m\u001b[0m_num_yielded\u001b[0m \u001b[0;34m+=\u001b[0m \u001b[0;36m1\u001b[0m\u001b[0;34m\u001b[0m\u001b[0;34m\u001b[0m\u001b[0m\n\u001b[1;32m    365\u001b[0m         \u001b[0;32mif\u001b[0m \u001b[0mself\u001b[0m\u001b[0;34m.\u001b[0m\u001b[0m_dataset_kind\u001b[0m \u001b[0;34m==\u001b[0m \u001b[0m_DatasetKind\u001b[0m\u001b[0;34m.\u001b[0m\u001b[0mIterable\u001b[0m \u001b[0;32mand\u001b[0m\u001b[0;31m \u001b[0m\u001b[0;31m\\\u001b[0m\u001b[0;34m\u001b[0m\u001b[0;34m\u001b[0m\u001b[0m\n",
            "\u001b[0;32m/usr/local/lib/python3.6/dist-packages/torch/utils/data/dataloader.py\u001b[0m in \u001b[0;36m_next_data\u001b[0;34m(self)\u001b[0m\n\u001b[1;32m    972\u001b[0m \u001b[0;34m\u001b[0m\u001b[0m\n\u001b[1;32m    973\u001b[0m             \u001b[0;32massert\u001b[0m \u001b[0;32mnot\u001b[0m \u001b[0mself\u001b[0m\u001b[0;34m.\u001b[0m\u001b[0m_shutdown\u001b[0m \u001b[0;32mand\u001b[0m \u001b[0mself\u001b[0m\u001b[0;34m.\u001b[0m\u001b[0m_tasks_outstanding\u001b[0m \u001b[0;34m>\u001b[0m \u001b[0;36m0\u001b[0m\u001b[0;34m\u001b[0m\u001b[0;34m\u001b[0m\u001b[0m\n\u001b[0;32m--> 974\u001b[0;31m             \u001b[0midx\u001b[0m\u001b[0;34m,\u001b[0m \u001b[0mdata\u001b[0m \u001b[0;34m=\u001b[0m \u001b[0mself\u001b[0m\u001b[0;34m.\u001b[0m\u001b[0m_get_data\u001b[0m\u001b[0;34m(\u001b[0m\u001b[0;34m)\u001b[0m\u001b[0;34m\u001b[0m\u001b[0;34m\u001b[0m\u001b[0m\n\u001b[0m\u001b[1;32m    975\u001b[0m             \u001b[0mself\u001b[0m\u001b[0;34m.\u001b[0m\u001b[0m_tasks_outstanding\u001b[0m \u001b[0;34m-=\u001b[0m \u001b[0;36m1\u001b[0m\u001b[0;34m\u001b[0m\u001b[0;34m\u001b[0m\u001b[0m\n\u001b[1;32m    976\u001b[0m \u001b[0;34m\u001b[0m\u001b[0m\n",
            "\u001b[0;32m/usr/local/lib/python3.6/dist-packages/torch/utils/data/dataloader.py\u001b[0m in \u001b[0;36m_get_data\u001b[0;34m(self)\u001b[0m\n\u001b[1;32m    939\u001b[0m         \u001b[0;32melse\u001b[0m\u001b[0;34m:\u001b[0m\u001b[0;34m\u001b[0m\u001b[0;34m\u001b[0m\u001b[0m\n\u001b[1;32m    940\u001b[0m             \u001b[0;32mwhile\u001b[0m \u001b[0;32mTrue\u001b[0m\u001b[0;34m:\u001b[0m\u001b[0;34m\u001b[0m\u001b[0;34m\u001b[0m\u001b[0m\n\u001b[0;32m--> 941\u001b[0;31m                 \u001b[0msuccess\u001b[0m\u001b[0;34m,\u001b[0m \u001b[0mdata\u001b[0m \u001b[0;34m=\u001b[0m \u001b[0mself\u001b[0m\u001b[0;34m.\u001b[0m\u001b[0m_try_get_data\u001b[0m\u001b[0;34m(\u001b[0m\u001b[0;34m)\u001b[0m\u001b[0;34m\u001b[0m\u001b[0;34m\u001b[0m\u001b[0m\n\u001b[0m\u001b[1;32m    942\u001b[0m                 \u001b[0;32mif\u001b[0m \u001b[0msuccess\u001b[0m\u001b[0;34m:\u001b[0m\u001b[0;34m\u001b[0m\u001b[0;34m\u001b[0m\u001b[0m\n\u001b[1;32m    943\u001b[0m                     \u001b[0;32mreturn\u001b[0m \u001b[0mdata\u001b[0m\u001b[0;34m\u001b[0m\u001b[0;34m\u001b[0m\u001b[0m\n",
            "\u001b[0;32m/usr/local/lib/python3.6/dist-packages/torch/utils/data/dataloader.py\u001b[0m in \u001b[0;36m_try_get_data\u001b[0;34m(self, timeout)\u001b[0m\n\u001b[1;32m    777\u001b[0m         \u001b[0;31m#   (bool: whether successfully get data, any: data if successful else None)\u001b[0m\u001b[0;34m\u001b[0m\u001b[0;34m\u001b[0m\u001b[0;34m\u001b[0m\u001b[0m\n\u001b[1;32m    778\u001b[0m         \u001b[0;32mtry\u001b[0m\u001b[0;34m:\u001b[0m\u001b[0;34m\u001b[0m\u001b[0;34m\u001b[0m\u001b[0m\n\u001b[0;32m--> 779\u001b[0;31m             \u001b[0mdata\u001b[0m \u001b[0;34m=\u001b[0m \u001b[0mself\u001b[0m\u001b[0;34m.\u001b[0m\u001b[0m_data_queue\u001b[0m\u001b[0;34m.\u001b[0m\u001b[0mget\u001b[0m\u001b[0;34m(\u001b[0m\u001b[0mtimeout\u001b[0m\u001b[0;34m=\u001b[0m\u001b[0mtimeout\u001b[0m\u001b[0;34m)\u001b[0m\u001b[0;34m\u001b[0m\u001b[0;34m\u001b[0m\u001b[0m\n\u001b[0m\u001b[1;32m    780\u001b[0m             \u001b[0;32mreturn\u001b[0m \u001b[0;34m(\u001b[0m\u001b[0;32mTrue\u001b[0m\u001b[0;34m,\u001b[0m \u001b[0mdata\u001b[0m\u001b[0;34m)\u001b[0m\u001b[0;34m\u001b[0m\u001b[0;34m\u001b[0m\u001b[0m\n\u001b[1;32m    781\u001b[0m         \u001b[0;32mexcept\u001b[0m \u001b[0mException\u001b[0m \u001b[0;32mas\u001b[0m \u001b[0me\u001b[0m\u001b[0;34m:\u001b[0m\u001b[0;34m\u001b[0m\u001b[0;34m\u001b[0m\u001b[0m\n",
            "\u001b[0;32m/usr/lib/python3.6/multiprocessing/queues.py\u001b[0m in \u001b[0;36mget\u001b[0;34m(self, block, timeout)\u001b[0m\n\u001b[1;32m    102\u001b[0m                 \u001b[0;32mif\u001b[0m \u001b[0mblock\u001b[0m\u001b[0;34m:\u001b[0m\u001b[0;34m\u001b[0m\u001b[0;34m\u001b[0m\u001b[0m\n\u001b[1;32m    103\u001b[0m                     \u001b[0mtimeout\u001b[0m \u001b[0;34m=\u001b[0m \u001b[0mdeadline\u001b[0m \u001b[0;34m-\u001b[0m \u001b[0mtime\u001b[0m\u001b[0;34m.\u001b[0m\u001b[0mmonotonic\u001b[0m\u001b[0;34m(\u001b[0m\u001b[0;34m)\u001b[0m\u001b[0;34m\u001b[0m\u001b[0;34m\u001b[0m\u001b[0m\n\u001b[0;32m--> 104\u001b[0;31m                     \u001b[0;32mif\u001b[0m \u001b[0;32mnot\u001b[0m \u001b[0mself\u001b[0m\u001b[0;34m.\u001b[0m\u001b[0m_poll\u001b[0m\u001b[0;34m(\u001b[0m\u001b[0mtimeout\u001b[0m\u001b[0;34m)\u001b[0m\u001b[0;34m:\u001b[0m\u001b[0;34m\u001b[0m\u001b[0;34m\u001b[0m\u001b[0m\n\u001b[0m\u001b[1;32m    105\u001b[0m                         \u001b[0;32mraise\u001b[0m \u001b[0mEmpty\u001b[0m\u001b[0;34m\u001b[0m\u001b[0;34m\u001b[0m\u001b[0m\n\u001b[1;32m    106\u001b[0m                 \u001b[0;32melif\u001b[0m \u001b[0;32mnot\u001b[0m \u001b[0mself\u001b[0m\u001b[0;34m.\u001b[0m\u001b[0m_poll\u001b[0m\u001b[0;34m(\u001b[0m\u001b[0;34m)\u001b[0m\u001b[0;34m:\u001b[0m\u001b[0;34m\u001b[0m\u001b[0;34m\u001b[0m\u001b[0m\n",
            "\u001b[0;32m/usr/lib/python3.6/multiprocessing/connection.py\u001b[0m in \u001b[0;36mpoll\u001b[0;34m(self, timeout)\u001b[0m\n\u001b[1;32m    255\u001b[0m         \u001b[0mself\u001b[0m\u001b[0;34m.\u001b[0m\u001b[0m_check_closed\u001b[0m\u001b[0;34m(\u001b[0m\u001b[0;34m)\u001b[0m\u001b[0;34m\u001b[0m\u001b[0;34m\u001b[0m\u001b[0m\n\u001b[1;32m    256\u001b[0m         \u001b[0mself\u001b[0m\u001b[0;34m.\u001b[0m\u001b[0m_check_readable\u001b[0m\u001b[0;34m(\u001b[0m\u001b[0;34m)\u001b[0m\u001b[0;34m\u001b[0m\u001b[0;34m\u001b[0m\u001b[0m\n\u001b[0;32m--> 257\u001b[0;31m         \u001b[0;32mreturn\u001b[0m \u001b[0mself\u001b[0m\u001b[0;34m.\u001b[0m\u001b[0m_poll\u001b[0m\u001b[0;34m(\u001b[0m\u001b[0mtimeout\u001b[0m\u001b[0;34m)\u001b[0m\u001b[0;34m\u001b[0m\u001b[0;34m\u001b[0m\u001b[0m\n\u001b[0m\u001b[1;32m    258\u001b[0m \u001b[0;34m\u001b[0m\u001b[0m\n\u001b[1;32m    259\u001b[0m     \u001b[0;32mdef\u001b[0m \u001b[0m__enter__\u001b[0m\u001b[0;34m(\u001b[0m\u001b[0mself\u001b[0m\u001b[0;34m)\u001b[0m\u001b[0;34m:\u001b[0m\u001b[0;34m\u001b[0m\u001b[0;34m\u001b[0m\u001b[0m\n",
            "\u001b[0;32m/usr/lib/python3.6/multiprocessing/connection.py\u001b[0m in \u001b[0;36m_poll\u001b[0;34m(self, timeout)\u001b[0m\n\u001b[1;32m    412\u001b[0m \u001b[0;34m\u001b[0m\u001b[0m\n\u001b[1;32m    413\u001b[0m     \u001b[0;32mdef\u001b[0m \u001b[0m_poll\u001b[0m\u001b[0;34m(\u001b[0m\u001b[0mself\u001b[0m\u001b[0;34m,\u001b[0m \u001b[0mtimeout\u001b[0m\u001b[0;34m)\u001b[0m\u001b[0;34m:\u001b[0m\u001b[0;34m\u001b[0m\u001b[0;34m\u001b[0m\u001b[0m\n\u001b[0;32m--> 414\u001b[0;31m         \u001b[0mr\u001b[0m \u001b[0;34m=\u001b[0m \u001b[0mwait\u001b[0m\u001b[0;34m(\u001b[0m\u001b[0;34m[\u001b[0m\u001b[0mself\u001b[0m\u001b[0;34m]\u001b[0m\u001b[0;34m,\u001b[0m \u001b[0mtimeout\u001b[0m\u001b[0;34m)\u001b[0m\u001b[0;34m\u001b[0m\u001b[0;34m\u001b[0m\u001b[0m\n\u001b[0m\u001b[1;32m    415\u001b[0m         \u001b[0;32mreturn\u001b[0m \u001b[0mbool\u001b[0m\u001b[0;34m(\u001b[0m\u001b[0mr\u001b[0m\u001b[0;34m)\u001b[0m\u001b[0;34m\u001b[0m\u001b[0;34m\u001b[0m\u001b[0m\n\u001b[1;32m    416\u001b[0m \u001b[0;34m\u001b[0m\u001b[0m\n",
            "\u001b[0;32m/usr/lib/python3.6/multiprocessing/connection.py\u001b[0m in \u001b[0;36mwait\u001b[0;34m(object_list, timeout)\u001b[0m\n\u001b[1;32m    909\u001b[0m \u001b[0;34m\u001b[0m\u001b[0m\n\u001b[1;32m    910\u001b[0m             \u001b[0;32mwhile\u001b[0m \u001b[0;32mTrue\u001b[0m\u001b[0;34m:\u001b[0m\u001b[0;34m\u001b[0m\u001b[0;34m\u001b[0m\u001b[0m\n\u001b[0;32m--> 911\u001b[0;31m                 \u001b[0mready\u001b[0m \u001b[0;34m=\u001b[0m \u001b[0mselector\u001b[0m\u001b[0;34m.\u001b[0m\u001b[0mselect\u001b[0m\u001b[0;34m(\u001b[0m\u001b[0mtimeout\u001b[0m\u001b[0;34m)\u001b[0m\u001b[0;34m\u001b[0m\u001b[0;34m\u001b[0m\u001b[0m\n\u001b[0m\u001b[1;32m    912\u001b[0m                 \u001b[0;32mif\u001b[0m \u001b[0mready\u001b[0m\u001b[0;34m:\u001b[0m\u001b[0;34m\u001b[0m\u001b[0;34m\u001b[0m\u001b[0m\n\u001b[1;32m    913\u001b[0m                     \u001b[0;32mreturn\u001b[0m \u001b[0;34m[\u001b[0m\u001b[0mkey\u001b[0m\u001b[0;34m.\u001b[0m\u001b[0mfileobj\u001b[0m \u001b[0;32mfor\u001b[0m \u001b[0;34m(\u001b[0m\u001b[0mkey\u001b[0m\u001b[0;34m,\u001b[0m \u001b[0mevents\u001b[0m\u001b[0;34m)\u001b[0m \u001b[0;32min\u001b[0m \u001b[0mready\u001b[0m\u001b[0;34m]\u001b[0m\u001b[0;34m\u001b[0m\u001b[0;34m\u001b[0m\u001b[0m\n",
            "\u001b[0;32m/usr/lib/python3.6/selectors.py\u001b[0m in \u001b[0;36mselect\u001b[0;34m(self, timeout)\u001b[0m\n\u001b[1;32m    374\u001b[0m             \u001b[0mready\u001b[0m \u001b[0;34m=\u001b[0m \u001b[0;34m[\u001b[0m\u001b[0;34m]\u001b[0m\u001b[0;34m\u001b[0m\u001b[0;34m\u001b[0m\u001b[0m\n\u001b[1;32m    375\u001b[0m             \u001b[0;32mtry\u001b[0m\u001b[0;34m:\u001b[0m\u001b[0;34m\u001b[0m\u001b[0;34m\u001b[0m\u001b[0m\n\u001b[0;32m--> 376\u001b[0;31m                 \u001b[0mfd_event_list\u001b[0m \u001b[0;34m=\u001b[0m \u001b[0mself\u001b[0m\u001b[0;34m.\u001b[0m\u001b[0m_poll\u001b[0m\u001b[0;34m.\u001b[0m\u001b[0mpoll\u001b[0m\u001b[0;34m(\u001b[0m\u001b[0mtimeout\u001b[0m\u001b[0;34m)\u001b[0m\u001b[0;34m\u001b[0m\u001b[0;34m\u001b[0m\u001b[0m\n\u001b[0m\u001b[1;32m    377\u001b[0m             \u001b[0;32mexcept\u001b[0m \u001b[0mInterruptedError\u001b[0m\u001b[0;34m:\u001b[0m\u001b[0;34m\u001b[0m\u001b[0;34m\u001b[0m\u001b[0m\n\u001b[1;32m    378\u001b[0m                 \u001b[0;32mreturn\u001b[0m \u001b[0mready\u001b[0m\u001b[0;34m\u001b[0m\u001b[0;34m\u001b[0m\u001b[0m\n",
            "\u001b[0;31mKeyboardInterrupt\u001b[0m: "
          ]
        }
      ]
    },
    {
      "cell_type": "markdown",
      "metadata": {
        "id": "gBaf_w3SS7AH",
        "colab_type": "text"
      },
      "source": [
        ""
      ]
    },
    {
      "cell_type": "markdown",
      "metadata": {
        "id": "L5OGeC0GS69I",
        "colab_type": "text"
      },
      "source": [
        "## 데이터 저장\n"
      ]
    },
    {
      "cell_type": "code",
      "metadata": {
        "id": "mwXg15D8h3ml",
        "colab_type": "code",
        "colab": {
          "base_uri": "https://localhost:8080/",
          "height": 226
        },
        "outputId": "d05624e2-8696-47d6-e5ab-ba9ee984e5b6"
      },
      "source": [
        "#torch.save(model_ft, '/content/drive/My Drive/Colab Notebooks/pyTorch/ef_model_ft.pt')\n",
        "##torch.save(model, '/content/drive/My Drive/Colab Notebooks/pyTorch/ef_model.pt')\n",
        "#torch.save(model_ft.state_dict(), '/content/drive/My Drive/Colab Notebooks/pyTorch/ef_model_ft_state_dict.pt')\n",
        "#torch.save(model.state_dict(), '/content/drive/My Drive/Colab Notebooks/pyTorch/ef_model_state_dict.pt')\n"
      ],
      "execution_count": 40,
      "outputs": [
        {
          "output_type": "error",
          "ename": "NameError",
          "evalue": "ignored",
          "traceback": [
            "\u001b[0;31m---------------------------------------------------------------------------\u001b[0m",
            "\u001b[0;31mNameError\u001b[0m                                 Traceback (most recent call last)",
            "\u001b[0;32m<ipython-input-40-ce3a1c34c490>\u001b[0m in \u001b[0;36m<module>\u001b[0;34m()\u001b[0m\n\u001b[0;32m----> 1\u001b[0;31m \u001b[0mtorch\u001b[0m\u001b[0;34m.\u001b[0m\u001b[0msave\u001b[0m\u001b[0;34m(\u001b[0m\u001b[0mmodel_ft\u001b[0m\u001b[0;34m,\u001b[0m \u001b[0;34m'/content/drive/My Drive/Colab Notebooks/pyTorch/ef_model_ft.pt'\u001b[0m\u001b[0;34m)\u001b[0m\u001b[0;34m\u001b[0m\u001b[0;34m\u001b[0m\u001b[0m\n\u001b[0m\u001b[1;32m      2\u001b[0m \u001b[0mtorch\u001b[0m\u001b[0;34m.\u001b[0m\u001b[0msave\u001b[0m\u001b[0;34m(\u001b[0m\u001b[0mmodel\u001b[0m\u001b[0;34m,\u001b[0m \u001b[0;34m'/content/drive/My Drive/Colab Notebooks/pyTorch/ef_model.pt'\u001b[0m\u001b[0;34m)\u001b[0m\u001b[0;34m\u001b[0m\u001b[0;34m\u001b[0m\u001b[0m\n\u001b[1;32m      3\u001b[0m \u001b[0mtorch\u001b[0m\u001b[0;34m.\u001b[0m\u001b[0msave\u001b[0m\u001b[0;34m(\u001b[0m\u001b[0mmodel_ft\u001b[0m\u001b[0;34m.\u001b[0m\u001b[0mstate_dict\u001b[0m\u001b[0;34m(\u001b[0m\u001b[0;34m)\u001b[0m\u001b[0;34m,\u001b[0m \u001b[0;34m'/content/drive/My Drive/Colab Notebooks/pyTorch/ef_model_ft_state_dict.pt'\u001b[0m\u001b[0;34m)\u001b[0m\u001b[0;34m\u001b[0m\u001b[0;34m\u001b[0m\u001b[0m\n\u001b[1;32m      4\u001b[0m \u001b[0mtorch\u001b[0m\u001b[0;34m.\u001b[0m\u001b[0msave\u001b[0m\u001b[0;34m(\u001b[0m\u001b[0mmodel\u001b[0m\u001b[0;34m.\u001b[0m\u001b[0mstate_dict\u001b[0m\u001b[0;34m(\u001b[0m\u001b[0;34m)\u001b[0m\u001b[0;34m,\u001b[0m \u001b[0;34m'/content/drive/My Drive/Colab Notebooks/pyTorch/ef_model_state_dict.pt'\u001b[0m\u001b[0;34m)\u001b[0m\u001b[0;34m\u001b[0m\u001b[0;34m\u001b[0m\u001b[0m\n",
            "\u001b[0;31mNameError\u001b[0m: name 'model_ft' is not defined"
          ]
        }
      ]
    },
    {
      "cell_type": "markdown",
      "metadata": {
        "id": "9rmApGM0TBIJ",
        "colab_type": "text"
      },
      "source": [
        "## 보기\n"
      ]
    },
    {
      "cell_type": "code",
      "metadata": {
        "id": "Q9XHHAaxRRl-",
        "colab_type": "code",
        "colab": {
          "base_uri": "https://localhost:8080/",
          "height": 155
        },
        "outputId": "1486820a-94ad-4aa0-bcb1-6120c6ade03f"
      },
      "source": [
        "def imshow(img):\n",
        "    img = img / 2 + 0.5\n",
        "    npimg = img.numpy()\n",
        "    plt.imshow(np.transpose(npimg, (1, 2, 0)))\n",
        "    plt.show()\n",
        "\n",
        "teDiter = iter(teLoaders) # 배치 1개씩 부른다.\n",
        "images, labels = teDiter.next()\n",
        "imshow(torchvision.utils.make_grid(images)) # 여러 이미지를 모아 하나의 이미지로 만들 수 잇다. \n",
        "print('GroundTruth: ', ' '.join('%5s' % class_names[labels[j]] for j in range(4)))"
      ],
      "execution_count": 38,
      "outputs": [
        {
          "output_type": "stream",
          "text": [
            "Clipping input data to the valid range for imshow with RGB data ([0..1] for floats or [0..255] for integers).\n"
          ],
          "name": "stderr"
        },
        {
          "output_type": "display_data",
          "data": {
            "image/png": "[encoded data removed]",
            "text/plain": [
              "<Figure size 432x288 with 1 Axes>"
            ]
          },
          "metadata": {
            "tags": [],
            "needs_background": "light"
          }
        },
        {
          "output_type": "stream",
          "text": [
            "GroundTruth:      0     0     0     0\n"
          ],
          "name": "stdout"
        }
      ]
    },
    {
      "cell_type": "code",
      "metadata": {
        "id": "9cD33yr2TLJr",
        "colab_type": "code",
        "colab": {}
      },
      "source": [
        "testModel = torch.load('/content/drive/My Drive/Colab Notebooks/pyTorch/ef_model_ft.pt', map_location=device)"
      ],
      "execution_count": 39,
      "outputs": []
    },
    {
      "cell_type": "code",
      "metadata": {
        "id": "EM54TCr1TPCo",
        "colab_type": "code",
        "colab": {
          "base_uri": "https://localhost:8080/",
          "height": 35
        },
        "outputId": "caad1964-c766-4ab9-c380-01c7fd11725b"
      },
      "source": [
        "correct = 0\n",
        "total = 0\n",
        "with torch.no_grad():\n",
        "    for data in teLoaders:\n",
        "        images, labels = data\n",
        "        images, labels = Variable(images.float().cuda()), Variable(labels.float().cuda())\n",
        "        \n",
        "        outputs = testModel(images)\n",
        "        _, predicted = torch.max(outputs.data, 1)\n",
        "        total += labels.size(0)\n",
        "        correct += (predicted == labels).sum().item()\n",
        "\n",
        "print('Accuracy of test images: %d %%' % (100 * correct / total))"
      ],
      "execution_count": 41,
      "outputs": [
        {
          "output_type": "stream",
          "text": [
            "Accuracy of test images: 96 %\n"
          ],
          "name": "stdout"
        }
      ]
    },
    {
      "cell_type": "code",
      "metadata": {
        "id": "cqu01fFpVN6f",
        "colab_type": "code",
        "colab": {}
      },
      "source": [
        ""
      ],
      "execution_count": null,
      "outputs": []
    }
  ]
}