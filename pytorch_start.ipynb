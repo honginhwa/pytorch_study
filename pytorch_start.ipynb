{
  "nbformat": 4,
  "nbformat_minor": 0,
  "metadata": {
    "colab": {
      "name": "pytorch_start.ipynb",
      "provenance": [],
      "private_outputs": true,
      "collapsed_sections": [],
      "mount_file_id": "1hbNQM_uUdRtOJoPAtI8g4OD44sQhCxp0",
      "authorship_tag": "ABX9TyMmBHEOBIXObPjjVR1plFRK",
      "include_colab_link": true
    },
    "kernelspec": {
      "name": "python3",
      "display_name": "Python 3"
    },
    "accelerator": "GPU"
  },
  "cells": [
    {
      "cell_type": "markdown",
      "metadata": {
        "id": "view-in-github",
        "colab_type": "text"
      },
      "source": [
        "<a href=\"https://colab.research.google.com/github/honginhwa/pytorch_study/blob/master/pytorch_start.ipynb\" target=\"_parent\"><img src=\"https://colab.research.google.com/assets/colab-badge.svg\" alt=\"Open In Colab\"/></a>"
      ]
    },
    {
      "cell_type": "code",
      "metadata": {
        "id": "ZTLw1o4cRPwu",
        "colab_type": "code",
        "colab": {}
      },
      "source": [
        "\n",
        "#https://jisoo-coding.tistory.com/2\n",
        "#https://datascienceschool.net/view-notebook/f9d9fddb7cc7494a9e4be99f0e137be0/ >> 하드웨어 사양 확인 \n",
        "\n",
        "# https://youngguncho.github.io/2018/04/10/Colab-setup/ << 파이토치 확인 \n"
      ],
      "execution_count": null,
      "outputs": []
    },
    {
      "cell_type": "code",
      "metadata": {
        "id": "AoFaoFCASs6e",
        "colab_type": "code",
        "colab": {}
      },
      "source": [
        "#OS\n",
        "!cat /etc/issue.net\n",
        "\n",
        "# CPU 사양\n",
        "!head /proc/cpuinfo\n",
        "\n",
        "# 메모리 사양\n",
        "!head -n 3 /proc/meminfo\n",
        "\n",
        "#GPU사양 확인 \n",
        "\n",
        "!nvidia-smi\n",
        "\n",
        "#파이썬 pip3 버전 \n",
        "!python3 --version"
      ],
      "execution_count": null,
      "outputs": []
    },
    {
      "cell_type": "code",
      "metadata": {
        "id": "h85qxOmDTYVQ",
        "colab_type": "code",
        "colab": {}
      },
      "source": [
        "!pip3 install http://download.pytorch.org/whl/cu80/torch-0.3.0.post4-cp36-cp36m-linux_x86_64.whl\n",
        "!pip3 install torchvision"
      ],
      "execution_count": null,
      "outputs": []
    },
    {
      "cell_type": "code",
      "metadata": {
        "id": "PNFpLHALV9vH",
        "colab_type": "code",
        "colab": {}
      },
      "source": [
        "import torch"
      ],
      "execution_count": null,
      "outputs": []
    },
    {
      "cell_type": "code",
      "metadata": {
        "id": "X0w2B42ou6M-",
        "colab_type": "code",
        "colab": {}
      },
      "source": [
        "x=torch.tensor([[1,2,3],[4,5,6],[8,9,7]])\n",
        "print(x)"
      ],
      "execution_count": null,
      "outputs": []
    },
    {
      "cell_type": "code",
      "metadata": {
        "id": "JEYr2odhCQvm",
        "colab_type": "code",
        "colab": {}
      },
      "source": [
        "print('size : ', x.size())\n",
        "print('shape : ', x.shape)\n",
        "print('랭크 :',x.ndimension())"
      ],
      "execution_count": null,
      "outputs": []
    },
    {
      "cell_type": "code",
      "metadata": {
        "id": "QLCSRb9VC5ho",
        "colab_type": "code",
        "colab": {}
      },
      "source": [
        "x = torch.unsqueeze(x,0)\n",
        "print(x)\n",
        "print('size : ', x.size())\n",
        "print('shape : ', x.shape)\n",
        "print('랭크 :',x.ndimension())"
      ],
      "execution_count": null,
      "outputs": []
    },
    {
      "cell_type": "code",
      "metadata": {
        "id": "xodxt6LwEsT9",
        "colab_type": "code",
        "colab": {}
      },
      "source": [
        "x= torch.squeeze(x)\n",
        "print(x)\n",
        "print('size : ', x.size())\n",
        "print('shape : ', x.shape)\n",
        "print('랭크 :',x.ndimension())"
      ],
      "execution_count": null,
      "outputs": []
    },
    {
      "cell_type": "code",
      "metadata": {
        "id": "sFcnXRASE36e",
        "colab_type": "code",
        "colab": {}
      },
      "source": [
        "x = x.view(9)\n",
        "print(x)\n",
        "print(x.size())"
      ],
      "execution_count": null,
      "outputs": []
    },
    {
      "cell_type": "code",
      "metadata": {
        "id": "gSciuhSsFJYl",
        "colab_type": "code",
        "colab": {}
      },
      "source": [
        " import torch\n",
        " w = torch.randn(5,3,dtype=torch.float)\n",
        " x = torch .tensor([[1.0,2.0],[3.0,4.0],[5.0,6.0]])\n",
        "\n",
        " print(w.size())\n",
        " print(x.size())\n",
        " print(w)\n",
        " print(x)\n"
      ],
      "execution_count": null,
      "outputs": []
    },
    {
      "cell_type": "code",
      "metadata": {
        "id": "CXHxDKuSGZwj",
        "colab_type": "code",
        "colab": {}
      },
      "source": [
        "b = torch.randn(5,2,dtype=torch.float)\n",
        "print(b.size())\n",
        "print(b)"
      ],
      "execution_count": null,
      "outputs": []
    },
    {
      "cell_type": "code",
      "metadata": {
        "id": "Ca7VqddEGnvv",
        "colab_type": "code",
        "colab": {}
      },
      "source": [
        "#autograde \n",
        "import torch\n",
        "\n",
        "w = torch.tensor(1.0, requires_grad=True)\n",
        "\n",
        "a= w*3\n",
        "\n",
        "l = a**2\n",
        "\n",
        "l.backward()\n",
        "print('l을 w로 미분한 값은 {}'.format(w.grad))\n",
        "\n",
        "\n",
        "\n"
      ],
      "execution_count": null,
      "outputs": []
    },
    {
      "cell_type": "code",
      "metadata": {
        "id": "gKK2mEjdfhis",
        "colab_type": "code",
        "colab": {}
      },
      "source": [
        "import torch \n",
        "import pickle\n",
        "import matplotlib.pyplot as plt\n"
      ],
      "execution_count": null,
      "outputs": []
    },
    {
      "cell_type": "code",
      "metadata": {
        "id": "MiNGGlGwhAiu",
        "colab_type": "code",
        "colab": {}
      },
      "source": [
        "broken_image= torch.FloatTensor(pickle.load(open('/content/drive/My Drive/Colab Notebooks/pyTorch/3-min-pytorch-master/03-파이토치로_구현하는_ANN/broken_image_t.p','rb'),encoding='latin1'))\n",
        "\n",
        "plt.imshow(broken_image.view(100,100))"
      ],
      "execution_count": null,
      "outputs": []
    },
    {
      "cell_type": "code",
      "metadata": {
        "id": "1AuoV7ZcjCxO",
        "colab_type": "code",
        "colab": {}
      },
      "source": [
        "def weird_function(x,n_iter=5):\n",
        "  h=x\n",
        "  filt=torch.tensor([-1./3,1./3 , -1./3])\n",
        "  for i in range(n_iter):\n",
        "    zero_tensor = torch.tensor([1.0*0])\n",
        "    h_l = torch.cat((zero_tensor,h[:-1]),0)\n",
        "    h_r = torch.cat((h[1:],zero_tensor),0)\n",
        "    h = filt[0] * h + filt[2] * h_l + filt[1] * h_r\n",
        "    if i%2 ==0:\n",
        "      h = torch.cat((h[h.shape[0]//2:],h[:h.shape[0]//2]),0)\n",
        "  return h"
      ],
      "execution_count": null,
      "outputs": []
    },
    {
      "cell_type": "code",
      "metadata": {
        "id": "4DA6EOiIkfWd",
        "colab_type": "code",
        "colab": {}
      },
      "source": [
        "def distance_loss(hypothesis, broken_image):\n",
        "  return torch.dist(hypothesis, broken_image)"
      ],
      "execution_count": null,
      "outputs": []
    },
    {
      "cell_type": "code",
      "metadata": {
        "id": "A3nJvBOPksNZ",
        "colab_type": "code",
        "colab": {}
      },
      "source": [
        "random_tensor = torch.randn(10000,dtype=torch.float)\n",
        "lr = 0.8"
      ],
      "execution_count": null,
      "outputs": []
    },
    {
      "cell_type": "code",
      "metadata": {
        "id": "ZdixWFMclFcb",
        "colab_type": "code",
        "colab": {}
      },
      "source": [
        "\n",
        "for i in range(0,20000):\n",
        "    random_tensor.requires_grad_(True) # require_grad = 백프로파게이션의 변화도를 계산\n",
        "    hypothesis = weird_function(random_tensor)\n",
        "    loss = distance_loss(hypothesis, broken_image)\n",
        "    loss.backward()\n",
        "    with torch.no_grad(): # no_grad = 역전파의 변화도 저장 x >> 연산 추적 x\n",
        "        random_tensor = random_tensor - lr*random_tensor.grad\n",
        "    if i % 1000 == 0:\n",
        "        print('Loss at {} = {}'.format(i, loss.item()))"
      ],
      "execution_count": null,
      "outputs": []
    },
    {
      "cell_type": "code",
      "metadata": {
        "id": "Xrtce3qWmrSe",
        "colab_type": "code",
        "colab": {}
      },
      "source": [
        "plt.imshow(random_tensor.view(100,100).data)"
      ],
      "execution_count": null,
      "outputs": []
    }
  ]
}